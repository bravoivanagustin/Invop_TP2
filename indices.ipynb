{
 "cells": [
  {
   "cell_type": "code",
   "execution_count": 258,
   "id": "d7a5775d",
   "metadata": {},
   "outputs": [],
   "source": [
    "n = 4\n",
    "nombres = [f\"x_{i}{0}\" for i in range(1,n+1)] + [f\"x_{0}{j}\" for j in range(1,n+1)] + [f\"x_{i}{j}\" for i in range(1,n+1) for j in range(1,n+1)] + [f\"y_{i}{j}\" for i in range(1,n+1) for j in range(1,n+1)] + [f\"c_{i}\" for i in range(1,n+1)] + [f\"b_{i}\" for i in range(1,n+1)] + [f\"D_{i}\" for i in range(1,n+1)] + [f\"u_{i}\" for i in range(1,n+1)]\n",
    "exclusivos = [1,3]"
   ]
  },
  {
   "cell_type": "code",
   "execution_count": 259,
   "id": "f3cb10e6",
   "metadata": {},
   "outputs": [
    {
     "data": {
      "text/plain": [
       "['x_10',\n",
       " 'x_20',\n",
       " 'x_30',\n",
       " 'x_40',\n",
       " 'x_01',\n",
       " 'x_02',\n",
       " 'x_03',\n",
       " 'x_04',\n",
       " 'x_11',\n",
       " 'x_12',\n",
       " 'x_13',\n",
       " 'x_14',\n",
       " 'x_21',\n",
       " 'x_22',\n",
       " 'x_23',\n",
       " 'x_24',\n",
       " 'x_31',\n",
       " 'x_32',\n",
       " 'x_33',\n",
       " 'x_34',\n",
       " 'x_41',\n",
       " 'x_42',\n",
       " 'x_43',\n",
       " 'x_44',\n",
       " 'y_11',\n",
       " 'y_12',\n",
       " 'y_13',\n",
       " 'y_14',\n",
       " 'y_21',\n",
       " 'y_22',\n",
       " 'y_23',\n",
       " 'y_24',\n",
       " 'y_31',\n",
       " 'y_32',\n",
       " 'y_33',\n",
       " 'y_34',\n",
       " 'y_41',\n",
       " 'y_42',\n",
       " 'y_43',\n",
       " 'y_44',\n",
       " 'c_1',\n",
       " 'c_2',\n",
       " 'c_3',\n",
       " 'c_4',\n",
       " 'b_1',\n",
       " 'b_2',\n",
       " 'b_3',\n",
       " 'b_4',\n",
       " 'D_1',\n",
       " 'D_2',\n",
       " 'D_3',\n",
       " 'D_4',\n",
       " 'u_1',\n",
       " 'u_2',\n",
       " 'u_3',\n",
       " 'u_4']"
      ]
     },
     "execution_count": 259,
     "metadata": {},
     "output_type": "execute_result"
    }
   ],
   "source": [
    "nombres"
   ]
  },
  {
   "cell_type": "code",
   "execution_count": 264,
   "id": "258a32cf",
   "metadata": {},
   "outputs": [
    {
     "data": {
      "text/plain": [
       "[[[0, 8, 9, 10, 11, 40], [1, 1, 1, 1, 1, -1]],\n",
       " [[1, 12, 13, 14, 15, 41], [1, 1, 1, 1, 1, -1]],\n",
       " [[2, 16, 17, 18, 19, 42], [1, 1, 1, 1, 1, -1]],\n",
       " [[3, 20, 21, 22, 23, 43], [1, 1, 1, 1, 1, -1]]]"
      ]
     },
     "execution_count": 264,
     "metadata": {},
     "output_type": "execute_result"
    }
   ],
   "source": [
    "[[[j for j in range(len(nombres)) if nombres[j][0:3] == f\"x_{i}\"]+[i+2*n+2*n**2-1], [1]*(n+1)+[-1]] for i in range(1,n+1)] #3"
   ]
  },
  {
   "cell_type": "code",
   "execution_count": null,
   "id": "ac6751cd",
   "metadata": {},
   "outputs": [
    {
     "data": {
      "text/plain": [
       "['x_01', 'x_11', 'x_12', 'x_13', 'x_14', 'c_1']"
      ]
     },
     "execution_count": 266,
     "metadata": {},
     "output_type": "execute_result"
    }
   ],
   "source": [
    "[nombres[0]]+nombres[8:12]+[nombres[40]]"
   ]
  },
  {
   "cell_type": "code",
   "execution_count": 316,
   "id": "7c8e9384",
   "metadata": {},
   "outputs": [
    {
     "data": {
      "text/plain": [
       "[[[0, 1, 2, 3], [1, 1, 1, 1]]]"
      ]
     },
     "execution_count": 316,
     "metadata": {},
     "output_type": "execute_result"
    }
   ],
   "source": [
    "[[[i for i in range(0,n)], [1]*n]]"
   ]
  },
  {
   "cell_type": "code",
   "execution_count": 317,
   "id": "c4464999",
   "metadata": {},
   "outputs": [
    {
     "data": {
      "text/plain": [
       "['x_10', 'x_20', 'x_30', 'x_40']"
      ]
     },
     "execution_count": 317,
     "metadata": {},
     "output_type": "execute_result"
    }
   ],
   "source": [
    "nombres[:4]"
   ]
  },
  {
   "cell_type": "code",
   "execution_count": 318,
   "id": "37e1b8da",
   "metadata": {},
   "outputs": [
    {
     "data": {
      "text/plain": [
       "[[[0, 8, 9, 10, 11, 40], [1, 1, 1, 1, 1, -1]],\n",
       " [[1, 12, 13, 14, 15, 41], [1, 1, 1, 1, 1, -1]],\n",
       " [[2, 16, 17, 18, 19, 42], [1, 1, 1, 1, 1, -1]],\n",
       " [[3, 20, 21, 22, 23, 43], [1, 1, 1, 1, 1, -1]]]"
      ]
     },
     "execution_count": 318,
     "metadata": {},
     "output_type": "execute_result"
    }
   ],
   "source": [
    "[[[i]+[j+n*i+2*n for j in range(0,n)]+[i+2*n**2+2*n], [1]*(n+1)+[-1]] for i in range(0,n)] "
   ]
  },
  {
   "cell_type": "code",
   "execution_count": 320,
   "id": "5ca9c8e0",
   "metadata": {},
   "outputs": [
    {
     "data": {
      "text/plain": [
       "['x_20', 'x_21', 'x_22', 'x_23', 'x_24', 'c_2']"
      ]
     },
     "execution_count": 320,
     "metadata": {},
     "output_type": "execute_result"
    }
   ],
   "source": [
    "[nombres[1]]+nombres[12:16]+[nombres[41]]"
   ]
  },
  {
   "cell_type": "code",
   "execution_count": 249,
   "id": "c4eeec93",
   "metadata": {},
   "outputs": [
    {
     "data": {
      "text/plain": [
       "[[[0, 4, 8, 12, 52, 32], [1, 1, 1, 1, -1]],\n",
       " [[1, 5, 9, 13, 53, 33], [1, 1, 1, 1, -1]],\n",
       " [[2, 6, 10, 14, 54, 34], [1, 1, 1, 1, -1]],\n",
       " [[3, 7, 11, 15, 55, 35], [1, 1, 1, 1, -1]]]"
      ]
     },
     "execution_count": 249,
     "metadata": {},
     "output_type": "execute_result"
    }
   ],
   "source": [
    "[[[i for i in range(len(nombres)) if nombres[i][0:2] == f\"x_\" and nombres[i][-1] == f\"{j}\"]+[j+2*n**2-1], [1]*n+[-1]] for j in range(1,n+1)] #4"
   ]
  },
  {
   "cell_type": "code",
   "execution_count": 250,
   "id": "0de8e06e",
   "metadata": {},
   "outputs": [
    {
     "data": {
      "text/plain": [
       "['x_11', 'x_21', 'x_31', 'x_41', 'c_1']"
      ]
     },
     "execution_count": 250,
     "metadata": {},
     "output_type": "execute_result"
    }
   ],
   "source": [
    "nombres[0:13:4]+[nombres[32]]"
   ]
  },
  {
   "cell_type": "code",
   "execution_count": 272,
   "id": "9bd4cade",
   "metadata": {},
   "outputs": [
    {
     "data": {
      "text/plain": [
       "[[[4, 8, 12, 16, 20, 40], [1, 1, 1, 1, 1, -1]],\n",
       " [[5, 9, 13, 17, 21, 41], [1, 1, 1, 1, 1, -1]],\n",
       " [[6, 10, 14, 18, 22, 42], [1, 1, 1, 1, 1, -1]],\n",
       " [[7, 11, 15, 19, 23, 43], [1, 1, 1, 1, 1, -1]]]"
      ]
     },
     "execution_count": 272,
     "metadata": {},
     "output_type": "execute_result"
    }
   ],
   "source": [
    "[[[n+j]+[j+n*i+2*n for i in range(0,n)]+[j+2*n**2+2*n], [1]*(n+1)+[-1]] for j in range(0,n)] "
   ]
  },
  {
   "cell_type": "code",
   "execution_count": 271,
   "id": "51c1eff4",
   "metadata": {},
   "outputs": [
    {
     "data": {
      "text/plain": [
       "['x_01', 'x_11', 'x_21', 'x_31', 'x_41', 'c_1']"
      ]
     },
     "execution_count": 271,
     "metadata": {},
     "output_type": "execute_result"
    }
   ],
   "source": [
    "[nombres[4]]+nombres[8:21:4]+[nombres[40]]"
   ]
  },
  {
   "cell_type": "code",
   "execution_count": 274,
   "id": "185fc71e",
   "metadata": {},
   "outputs": [
    {
     "data": {
      "text/plain": [
       "[[[40], [1]], [[42], [1]]]"
      ]
     },
     "execution_count": 274,
     "metadata": {},
     "output_type": "execute_result"
    }
   ],
   "source": [
    "[[[i+2*n**2-1+2*n],[1]] for i in exclusivos] #5"
   ]
  },
  {
   "cell_type": "code",
   "execution_count": 275,
   "id": "a801da1c",
   "metadata": {},
   "outputs": [
    {
     "data": {
      "text/plain": [
       "['c_1', 'c_3']"
      ]
     },
     "execution_count": 275,
     "metadata": {},
     "output_type": "execute_result"
    }
   ],
   "source": [
    "[nombres[40]]+[nombres[42]]"
   ]
  },
  {
   "cell_type": "code",
   "execution_count": 254,
   "id": "46a2f334",
   "metadata": {},
   "outputs": [
    {
     "data": {
      "text/plain": [
       "[[[16], [1]],\n",
       " [[17], [1]],\n",
       " [[18], [1]],\n",
       " [[19], [1]],\n",
       " [[20], [1]],\n",
       " [[21], [1]],\n",
       " [[22], [1]],\n",
       " [[23], [1]],\n",
       " [[24], [1]],\n",
       " [[25], [1]],\n",
       " [[26], [1]],\n",
       " [[27], [1]],\n",
       " [[28], [1]],\n",
       " [[29], [1]],\n",
       " [[30], [1]],\n",
       " [[31], [1]]]"
      ]
     },
     "execution_count": 254,
     "metadata": {},
     "output_type": "execute_result"
    }
   ],
   "source": [
    "[[[k for k in range(len(nombres)) if nombres[k][0:4] == f\"y_{i}{j}\"], [1]] for i in range(1,n+1) for j in range(1,n+1)] #6"
   ]
  },
  {
   "cell_type": "code",
   "execution_count": 255,
   "id": "b0570d9b",
   "metadata": {},
   "outputs": [
    {
     "data": {
      "text/plain": [
       "['y_11', 'y_12', 'y_33']"
      ]
     },
     "execution_count": 255,
     "metadata": {},
     "output_type": "execute_result"
    }
   ],
   "source": [
    "[nombres[16]]+[nombres[17]]+[nombres[26]]"
   ]
  },
  {
   "cell_type": "code",
   "execution_count": 276,
   "id": "b84c6883",
   "metadata": {},
   "outputs": [
    {
     "data": {
      "text/plain": [
       "[[[24, 40], [1, -1]],\n",
       " [[25, 40], [1, -1]],\n",
       " [[26, 40], [1, -1]],\n",
       " [[27, 40], [1, -1]],\n",
       " [[28, 41], [1, -1]],\n",
       " [[29, 41], [1, -1]],\n",
       " [[30, 41], [1, -1]],\n",
       " [[31, 41], [1, -1]],\n",
       " [[32, 42], [1, -1]],\n",
       " [[33, 42], [1, -1]],\n",
       " [[34, 42], [1, -1]],\n",
       " [[35, 42], [1, -1]],\n",
       " [[36, 43], [1, -1]],\n",
       " [[37, 43], [1, -1]],\n",
       " [[38, 43], [1, -1]],\n",
       " [[39, 43], [1, -1]]]"
      ]
     },
     "execution_count": 276,
     "metadata": {},
     "output_type": "execute_result"
    }
   ],
   "source": [
    "[[[k+n**2+2*n,k//n+2*n**2+2*n], [1,-1]] for k in range(0,n**2)] #6"
   ]
  },
  {
   "cell_type": "code",
   "execution_count": 280,
   "id": "67dc54d9",
   "metadata": {},
   "outputs": [
    {
     "data": {
      "text/plain": [
       "['y_14', 'c_1']"
      ]
     },
     "execution_count": 280,
     "metadata": {},
     "output_type": "execute_result"
    }
   ],
   "source": [
    "[nombres[27]]+[nombres[40]]"
   ]
  },
  {
   "cell_type": "code",
   "execution_count": 283,
   "id": "1c1fbeb9",
   "metadata": {},
   "outputs": [
    {
     "data": {
      "text/plain": [
       "[[[40, 44], [1, 1]],\n",
       " [[41, 45], [1, 1]],\n",
       " [[42, 46], [1, 1]],\n",
       " [[43, 47], [1, 1]]]"
      ]
     },
     "execution_count": 283,
     "metadata": {},
     "output_type": "execute_result"
    }
   ],
   "source": [
    "[[[i+2*n**2+2*n,i+3*n+2*n**2], [1,1]] for i in range(0,n)] #7"
   ]
  },
  {
   "cell_type": "code",
   "execution_count": 284,
   "id": "1e48173a",
   "metadata": {},
   "outputs": [
    {
     "data": {
      "text/plain": [
       "['c_1', 'b_1']"
      ]
     },
     "execution_count": 284,
     "metadata": {},
     "output_type": "execute_result"
    }
   ],
   "source": [
    "[nombres[40]]+[nombres[44]]"
   ]
  },
  {
   "cell_type": "code",
   "execution_count": 286,
   "id": "58653607",
   "metadata": {},
   "outputs": [
    {
     "data": {
      "text/plain": [
       "[[[24, 28, 32, 36, 44], [1, 1, 1, 1, -1]],\n",
       " [[25, 29, 33, 37, 45], [1, 1, 1, 1, -1]],\n",
       " [[26, 30, 34, 38, 46], [1, 1, 1, 1, -1]],\n",
       " [[27, 31, 35, 39, 47], [1, 1, 1, 1, -1]]]"
      ]
     },
     "execution_count": 286,
     "metadata": {},
     "output_type": "execute_result"
    }
   ],
   "source": [
    "[[[i for i in range(len(nombres)) if nombres[i][0:2] == f\"y_\" and nombres[i][-1] == f\"{j}\"]+[2*n**2+3*n+j-1], [1]*n+[-1]] for j in range(1,n+1)] #8"
   ]
  },
  {
   "cell_type": "code",
   "execution_count": 287,
   "id": "4930d8ce",
   "metadata": {},
   "outputs": [
    {
     "data": {
      "text/plain": [
       "['y_11', 'y_21', 'y_31', 'y_41', 'b_1']"
      ]
     },
     "execution_count": 287,
     "metadata": {},
     "output_type": "execute_result"
    }
   ],
   "source": [
    "[nombres[24]]+[nombres[28]]+[nombres[32]]+[nombres[36]]+[nombres[44]]"
   ]
  },
  {
   "cell_type": "code",
   "execution_count": 289,
   "id": "350d6a22",
   "metadata": {},
   "outputs": [
    {
     "data": {
      "text/plain": [
       "[[[24, 28, 32, 36, 44], [1, 1, 1, 1, -1]],\n",
       " [[25, 29, 33, 37, 45], [1, 1, 1, 1, -1]],\n",
       " [[26, 30, 34, 38, 46], [1, 1, 1, 1, -1]],\n",
       " [[27, 31, 35, 39, 47], [1, 1, 1, 1, -1]]]"
      ]
     },
     "execution_count": 289,
     "metadata": {},
     "output_type": "execute_result"
    }
   ],
   "source": [
    "[[[i*n+n**2+2*n+j for i in range(0,n)]+[2*n**2+3*n+j], [1]*n+[-1]] for j in range(0,n)]"
   ]
  },
  {
   "cell_type": "code",
   "execution_count": null,
   "id": "21ccd9f7",
   "metadata": {},
   "outputs": [
    {
     "data": {
      "text/plain": [
       "['y_11', 'y_21', 'y_31', 'y_41', 'b_1']"
      ]
     },
     "execution_count": 211,
     "metadata": {},
     "output_type": "execute_result"
    }
   ],
   "source": [
    "[nombres[16]]+[nombres[20]]+[nombres[24]]+[nombres[28]]+[nombres[36]]"
   ]
  },
  {
   "cell_type": "code",
   "execution_count": 290,
   "id": "a2ba42a0",
   "metadata": {},
   "outputs": [
    {
     "data": {
      "text/plain": [
       "[[[24], [1]],\n",
       " [[25], [1]],\n",
       " [[26], [1]],\n",
       " [[27], [1]],\n",
       " [[28], [1]],\n",
       " [[29], [1]],\n",
       " [[30], [1]],\n",
       " [[31], [1]],\n",
       " [[32], [1]],\n",
       " [[33], [1]],\n",
       " [[34], [1]],\n",
       " [[35], [1]],\n",
       " [[36], [1]],\n",
       " [[37], [1]],\n",
       " [[38], [1]],\n",
       " [[39], [1]]]"
      ]
     },
     "execution_count": 290,
     "metadata": {},
     "output_type": "execute_result"
    }
   ],
   "source": [
    "[[[k for k in range(len(nombres)) if nombres[k][0:4] == f\"y_{i}{j}\"], [1]] for i in range(1,n+1) for j in range(1,n+1)] #9"
   ]
  },
  {
   "cell_type": "code",
   "execution_count": 292,
   "id": "1d412e2a",
   "metadata": {},
   "outputs": [
    {
     "data": {
      "text/plain": [
       "'y_44'"
      ]
     },
     "execution_count": 292,
     "metadata": {},
     "output_type": "execute_result"
    }
   ],
   "source": [
    "nombres[39]"
   ]
  },
  {
   "cell_type": "code",
   "execution_count": 293,
   "id": "9fb55a70",
   "metadata": {},
   "outputs": [
    {
     "data": {
      "text/plain": [
       "[[[24], [1, -1]],\n",
       " [[25], [1, -1]],\n",
       " [[26], [1, -1]],\n",
       " [[27], [1, -1]],\n",
       " [[28], [1, -1]],\n",
       " [[29], [1, -1]],\n",
       " [[30], [1, -1]],\n",
       " [[31], [1, -1]],\n",
       " [[32], [1, -1]],\n",
       " [[33], [1, -1]],\n",
       " [[34], [1, -1]],\n",
       " [[35], [1, -1]],\n",
       " [[36], [1, -1]],\n",
       " [[37], [1, -1]],\n",
       " [[38], [1, -1]],\n",
       " [[39], [1, -1]]]"
      ]
     },
     "execution_count": 293,
     "metadata": {},
     "output_type": "execute_result"
    }
   ],
   "source": [
    "[[[k for k in range(len(nombres)) if nombres[k][0:4] == f\"y_{i}{j}\"]+[], [1,-1]] for i in range(1,n+1) for j in range(1,n+1)] #10"
   ]
  },
  {
   "cell_type": "code",
   "execution_count": 299,
   "id": "0d4c6224",
   "metadata": {},
   "outputs": [
    {
     "data": {
      "text/plain": [
       "[[[24, 48], [1, -1]],\n",
       " [[25, 48], [1, -1]],\n",
       " [[26, 48], [1, -1]],\n",
       " [[27, 48], [1, -1]],\n",
       " [[28, 49], [1, -1]],\n",
       " [[29, 49], [1, -1]],\n",
       " [[30, 49], [1, -1]],\n",
       " [[31, 49], [1, -1]],\n",
       " [[32, 50], [1, -1]],\n",
       " [[33, 50], [1, -1]],\n",
       " [[34, 50], [1, -1]],\n",
       " [[35, 50], [1, -1]],\n",
       " [[36, 51], [1, -1]],\n",
       " [[37, 51], [1, -1]],\n",
       " [[38, 51], [1, -1]],\n",
       " [[39, 51], [1, -1]]]"
      ]
     },
     "execution_count": 299,
     "metadata": {},
     "output_type": "execute_result"
    }
   ],
   "source": [
    "[[[k+2*n, k//n+2*n**2+3*n], [1,-1]] for k in range(n**2,2*n**2)] #10"
   ]
  },
  {
   "cell_type": "code",
   "execution_count": 303,
   "id": "e8ac7611",
   "metadata": {},
   "outputs": [
    {
     "data": {
      "text/plain": [
       "['y_12', 'D_1']"
      ]
     },
     "execution_count": 303,
     "metadata": {},
     "output_type": "execute_result"
    }
   ],
   "source": [
    "[nombres[25]] + [nombres[48]]"
   ]
  },
  {
   "cell_type": "code",
   "execution_count": null,
   "id": "dc320731",
   "metadata": {},
   "outputs": [
    {
     "data": {
      "text/plain": [
       "['y_12', 'D_1']"
      ]
     },
     "execution_count": 215,
     "metadata": {},
     "output_type": "execute_result"
    }
   ],
   "source": [
    "[nombres[17]]+[nombres[40]]"
   ]
  },
  {
   "cell_type": "code",
   "execution_count": 304,
   "id": "1e5cb85b",
   "metadata": {},
   "outputs": [
    {
     "data": {
      "text/plain": [
       "[[[24, 25, 26, 27], [1, 1, 1, 1]],\n",
       " [[28, 29, 30, 31], [1, 1, 1, 1]],\n",
       " [[32, 33, 34, 35], [1, 1, 1, 1]],\n",
       " [[36, 37, 38, 39], [1, 1, 1, 1]]]"
      ]
     },
     "execution_count": 304,
     "metadata": {},
     "output_type": "execute_result"
    }
   ],
   "source": [
    "[[[j for j in range(len(nombres)) if nombres[j][0:3] == f\"y_{i}\"], [1]*n] for i in range(1,n+1)] #11"
   ]
  },
  {
   "cell_type": "code",
   "execution_count": 306,
   "id": "f57db954",
   "metadata": {},
   "outputs": [
    {
     "data": {
      "text/plain": [
       "[[[24, 25, 26, 27, 48], [1, 1, 1, 1, -4]],\n",
       " [[28, 29, 30, 31, 49], [1, 1, 1, 1, -4]],\n",
       " [[32, 33, 34, 35, 50], [1, 1, 1, 1, -4]],\n",
       " [[36, 37, 38, 39, 51], [1, 1, 1, 1, -4]]]"
      ]
     },
     "execution_count": 306,
     "metadata": {},
     "output_type": "execute_result"
    }
   ],
   "source": [
    "[[[i*n+n**2+2*n+j for j in range(0,n)]+[2*n**2+4*n+i], [1]*n+[-4]] for i in range(0,n)]"
   ]
  },
  {
   "cell_type": "code",
   "execution_count": null,
   "id": "d46a1eee",
   "metadata": {},
   "outputs": [
    {
     "data": {
      "text/plain": [
       "['y_11', 'y_12', 'y_13', 'y_14', 'D_1']"
      ]
     },
     "execution_count": 218,
     "metadata": {},
     "output_type": "execute_result"
    }
   ],
   "source": [
    "nombres[16:20]+[nombres[40]]"
   ]
  },
  {
   "cell_type": "code",
   "execution_count": 307,
   "id": "f36d55b6",
   "metadata": {},
   "outputs": [
    {
     "data": {
      "text/plain": [
       "[[[44, 52], [1, 1]],\n",
       " [[45, 53], [1, 1]],\n",
       " [[46, 54], [1, 1]],\n",
       " [[47, 55], [1, 1]]]"
      ]
     },
     "execution_count": 307,
     "metadata": {},
     "output_type": "execute_result"
    }
   ],
   "source": [
    "[[[i+3*n+2*n**2,i+5*n+2*n**2], [1,1]] for i in range(0,n)] #12a "
   ]
  },
  {
   "cell_type": "code",
   "execution_count": 308,
   "id": "cab597c8",
   "metadata": {},
   "outputs": [
    {
     "data": {
      "text/plain": [
       "['b_1', 'u_1']"
      ]
     },
     "execution_count": 308,
     "metadata": {},
     "output_type": "execute_result"
    }
   ],
   "source": [
    "[nombres[44]]+[nombres[52]]"
   ]
  }
 ],
 "metadata": {
  "kernelspec": {
   "display_name": "Python 3",
   "language": "python",
   "name": "python3"
  },
  "language_info": {
   "codemirror_mode": {
    "name": "ipython",
    "version": 3
   },
   "file_extension": ".py",
   "mimetype": "text/x-python",
   "name": "python",
   "nbconvert_exporter": "python",
   "pygments_lexer": "ipython3",
   "version": "3.13.2"
  }
 },
 "nbformat": 4,
 "nbformat_minor": 5
}
