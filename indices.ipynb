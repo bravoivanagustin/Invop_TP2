{
 "cells": [
  {
   "cell_type": "code",
   "execution_count": 228,
   "id": "d7a5775d",
   "metadata": {},
   "outputs": [],
   "source": [
    "n = 6\n",
    "nombres = [f\"x_{i}{j}\" for i in range(1,n+1) for j in range(1,n+1)] + [f\"y_{i}{j}\" for i in range(1,n+1) for j in range(1,n+1)] + [f\"c_{i}\" for i in range(1,n+1)] + [f\"b_{i}\" for i in range(1,n+1)] + [f\"D_{i}\" for i in range(1,n+1)] + [f\"u_{i}\" for i in range(1,n+1)]\n",
    "exclusivos = [1,3]"
   ]
  },
  {
   "cell_type": "code",
   "execution_count": 194,
   "id": "258a32cf",
   "metadata": {},
   "outputs": [
    {
     "data": {
      "text/plain": [
       "[[[0, 1, 2, 3, 32], [1, 1, 1, 1, -1]],\n",
       " [[4, 5, 6, 7, 33], [1, 1, 1, 1, -1]],\n",
       " [[8, 9, 10, 11, 34], [1, 1, 1, 1, -1]],\n",
       " [[12, 13, 14, 15, 35], [1, 1, 1, 1, -1]]]"
      ]
     },
     "execution_count": 194,
     "metadata": {},
     "output_type": "execute_result"
    }
   ],
   "source": [
    "[[[j for j in range(len(nombres)) if nombres[j][0:3] == f\"x_{i}\"]+[i+2*n**2-1], [1]*n+[-1]] for i in range(1,n+1)] #3"
   ]
  },
  {
   "cell_type": "code",
   "execution_count": 195,
   "id": "ac6751cd",
   "metadata": {},
   "outputs": [
    {
     "data": {
      "text/plain": [
       "['x_11', 'x_12', 'x_13', 'x_14', 'c_1']"
      ]
     },
     "execution_count": 195,
     "metadata": {},
     "output_type": "execute_result"
    }
   ],
   "source": [
    "nombres[0:4]+[nombres[32]]"
   ]
  },
  {
   "cell_type": "code",
   "execution_count": 196,
   "id": "5680c71a",
   "metadata": {},
   "outputs": [
    {
     "data": {
      "text/plain": [
       "[[[0, 1, 2, 3, 32], [1, 1, 1, 1, -1]],\n",
       " [[4, 5, 6, 7, 33], [1, 1, 1, 1, -1]],\n",
       " [[8, 9, 10, 11, 34], [1, 1, 1, 1, -1]],\n",
       " [[12, 13, 14, 15, 35], [1, 1, 1, 1, -1]]]"
      ]
     },
     "execution_count": 196,
     "metadata": {},
     "output_type": "execute_result"
    }
   ],
   "source": [
    "[[[j+n*i for j in range(0,n)]+[i+2*n**2], [1]*n+[-1]] for i in range(0,n)] "
   ]
  },
  {
   "cell_type": "code",
   "execution_count": 197,
   "id": "c4eeec93",
   "metadata": {},
   "outputs": [
    {
     "data": {
      "text/plain": [
       "[[[0, 4, 8, 12, 32], [1, 1, 1, 1, -1]],\n",
       " [[1, 5, 9, 13, 33], [1, 1, 1, 1, -1]],\n",
       " [[2, 6, 10, 14, 34], [1, 1, 1, 1, -1]],\n",
       " [[3, 7, 11, 15, 35], [1, 1, 1, 1, -1]]]"
      ]
     },
     "execution_count": 197,
     "metadata": {},
     "output_type": "execute_result"
    }
   ],
   "source": [
    "[[[i for i in range(len(nombres)) if nombres[i][0:2] == f\"x_\" and nombres[i][-1] == f\"{j}\"]+[j+2*n**2-1], [1]*n+[-1]] for j in range(1,n+1)] #4"
   ]
  },
  {
   "cell_type": "code",
   "execution_count": 198,
   "id": "0de8e06e",
   "metadata": {},
   "outputs": [
    {
     "data": {
      "text/plain": [
       "['x_11', 'x_21', 'x_31', 'x_41', 'c_1']"
      ]
     },
     "execution_count": 198,
     "metadata": {},
     "output_type": "execute_result"
    }
   ],
   "source": [
    "nombres[0:13:4]+[nombres[32]]"
   ]
  },
  {
   "cell_type": "code",
   "execution_count": 199,
   "id": "9bd4cade",
   "metadata": {},
   "outputs": [
    {
     "data": {
      "text/plain": [
       "[[[0, 4, 8, 12, 32], [1, 1, 1, 1, -1]],\n",
       " [[1, 5, 9, 13, 33], [1, 1, 1, 1, -1]],\n",
       " [[2, 6, 10, 14, 34], [1, 1, 1, 1, -1]],\n",
       " [[3, 7, 11, 15, 35], [1, 1, 1, 1, -1]]]"
      ]
     },
     "execution_count": 199,
     "metadata": {},
     "output_type": "execute_result"
    }
   ],
   "source": [
    "[[[j+n*i for i in range(0,n)]+[j+2*n**2], [1]*n+[-1]] for j in range(0,n)] "
   ]
  },
  {
   "cell_type": "code",
   "execution_count": 200,
   "id": "185fc71e",
   "metadata": {},
   "outputs": [
    {
     "data": {
      "text/plain": [
       "[[[32], [1]], [[34], [1]]]"
      ]
     },
     "execution_count": 200,
     "metadata": {},
     "output_type": "execute_result"
    }
   ],
   "source": [
    "[[[i+2*n**2-1],[1]] for i in exclusivos] #5"
   ]
  },
  {
   "cell_type": "code",
   "execution_count": 201,
   "id": "a801da1c",
   "metadata": {},
   "outputs": [
    {
     "data": {
      "text/plain": [
       "['c_1', 'c_3']"
      ]
     },
     "execution_count": 201,
     "metadata": {},
     "output_type": "execute_result"
    }
   ],
   "source": [
    "[nombres[32]]+[nombres[34]]"
   ]
  },
  {
   "cell_type": "code",
   "execution_count": 229,
   "id": "46a2f334",
   "metadata": {},
   "outputs": [
    {
     "data": {
      "text/plain": [
       "[[[36], [1]],\n",
       " [[37], [1]],\n",
       " [[38], [1]],\n",
       " [[39], [1]],\n",
       " [[40], [1]],\n",
       " [[41], [1]],\n",
       " [[42], [1]],\n",
       " [[43], [1]],\n",
       " [[44], [1]],\n",
       " [[45], [1]],\n",
       " [[46], [1]],\n",
       " [[47], [1]],\n",
       " [[48], [1]],\n",
       " [[49], [1]],\n",
       " [[50], [1]],\n",
       " [[51], [1]],\n",
       " [[52], [1]],\n",
       " [[53], [1]],\n",
       " [[54], [1]],\n",
       " [[55], [1]],\n",
       " [[56], [1]],\n",
       " [[57], [1]],\n",
       " [[58], [1]],\n",
       " [[59], [1]],\n",
       " [[60], [1]],\n",
       " [[61], [1]],\n",
       " [[62], [1]],\n",
       " [[63], [1]],\n",
       " [[64], [1]],\n",
       " [[65], [1]],\n",
       " [[66], [1]],\n",
       " [[67], [1]],\n",
       " [[68], [1]],\n",
       " [[69], [1]],\n",
       " [[70], [1]],\n",
       " [[71], [1]]]"
      ]
     },
     "execution_count": 229,
     "metadata": {},
     "output_type": "execute_result"
    }
   ],
   "source": [
    "[[[k for k in range(len(nombres)) if nombres[k][0:4] == f\"y_{i}{j}\"], [1]] for i in range(1,n+1) for j in range(1,n+1)] #6"
   ]
  },
  {
   "cell_type": "code",
   "execution_count": 203,
   "id": "b0570d9b",
   "metadata": {},
   "outputs": [
    {
     "data": {
      "text/plain": [
       "['y_11', 'y_12', 'y_33']"
      ]
     },
     "execution_count": 203,
     "metadata": {},
     "output_type": "execute_result"
    }
   ],
   "source": [
    "[nombres[16]]+[nombres[17]]+[nombres[26]]"
   ]
  },
  {
   "cell_type": "code",
   "execution_count": 230,
   "id": "b84c6883",
   "metadata": {},
   "outputs": [
    {
     "data": {
      "text/plain": [
       "[[[36, 72], [1, -1]],\n",
       " [[37, 72], [1, -1]],\n",
       " [[38, 72], [1, -1]],\n",
       " [[39, 72], [1, -1]],\n",
       " [[40, 72], [1, -1]],\n",
       " [[41, 72], [1, -1]],\n",
       " [[42, 73], [1, -1]],\n",
       " [[43, 73], [1, -1]],\n",
       " [[44, 73], [1, -1]],\n",
       " [[45, 73], [1, -1]],\n",
       " [[46, 73], [1, -1]],\n",
       " [[47, 73], [1, -1]],\n",
       " [[48, 74], [1, -1]],\n",
       " [[49, 74], [1, -1]],\n",
       " [[50, 74], [1, -1]],\n",
       " [[51, 74], [1, -1]],\n",
       " [[52, 74], [1, -1]],\n",
       " [[53, 74], [1, -1]],\n",
       " [[54, 75], [1, -1]],\n",
       " [[55, 75], [1, -1]],\n",
       " [[56, 75], [1, -1]],\n",
       " [[57, 75], [1, -1]],\n",
       " [[58, 75], [1, -1]],\n",
       " [[59, 75], [1, -1]],\n",
       " [[60, 76], [1, -1]],\n",
       " [[61, 76], [1, -1]],\n",
       " [[62, 76], [1, -1]],\n",
       " [[63, 76], [1, -1]],\n",
       " [[64, 76], [1, -1]],\n",
       " [[65, 76], [1, -1]],\n",
       " [[66, 77], [1, -1]],\n",
       " [[67, 77], [1, -1]],\n",
       " [[68, 77], [1, -1]],\n",
       " [[69, 77], [1, -1]],\n",
       " [[70, 77], [1, -1]],\n",
       " [[71, 77], [1, -1]]]"
      ]
     },
     "execution_count": 230,
     "metadata": {},
     "output_type": "execute_result"
    }
   ],
   "source": [
    "[[[k+n**2,k//n+2*n**2], [1,-1]] for k in range(0,n**2)] #6"
   ]
  },
  {
   "cell_type": "code",
   "execution_count": 231,
   "id": "67dc54d9",
   "metadata": {},
   "outputs": [
    {
     "data": {
      "text/plain": [
       "['y_11', 'c_1']"
      ]
     },
     "execution_count": 231,
     "metadata": {},
     "output_type": "execute_result"
    }
   ],
   "source": [
    "[nombres[36]]+[nombres[72]]"
   ]
  },
  {
   "cell_type": "code",
   "execution_count": 236,
   "id": "1c1fbeb9",
   "metadata": {},
   "outputs": [
    {
     "data": {
      "text/plain": [
       "[[[72, 78], [1, 1]],\n",
       " [[73, 79], [1, 1]],\n",
       " [[74, 80], [1, 1]],\n",
       " [[75, 81], [1, 1]],\n",
       " [[76, 82], [1, 1]],\n",
       " [[77, 83], [1, 1]]]"
      ]
     },
     "execution_count": 236,
     "metadata": {},
     "output_type": "execute_result"
    }
   ],
   "source": [
    "[[[i+2*n**2,i+n+2*n**2], [1,1]] for i in range(0,n)] #7"
   ]
  },
  {
   "cell_type": "code",
   "execution_count": 234,
   "id": "1e48173a",
   "metadata": {},
   "outputs": [
    {
     "data": {
      "text/plain": [
       "['c_6', 'b_6']"
      ]
     },
     "execution_count": 234,
     "metadata": {},
     "output_type": "execute_result"
    }
   ],
   "source": [
    "[nombres[77]]+[nombres[83]]"
   ]
  },
  {
   "cell_type": "code",
   "execution_count": 237,
   "id": "58653607",
   "metadata": {},
   "outputs": [
    {
     "data": {
      "text/plain": [
       "[[[36, 42, 48, 54, 60, 66, 78], [1, 1, 1, 1, 1, 1, -1]],\n",
       " [[37, 43, 49, 55, 61, 67, 79], [1, 1, 1, 1, 1, 1, -1]],\n",
       " [[38, 44, 50, 56, 62, 68, 80], [1, 1, 1, 1, 1, 1, -1]],\n",
       " [[39, 45, 51, 57, 63, 69, 81], [1, 1, 1, 1, 1, 1, -1]],\n",
       " [[40, 46, 52, 58, 64, 70, 82], [1, 1, 1, 1, 1, 1, -1]],\n",
       " [[41, 47, 53, 59, 65, 71, 83], [1, 1, 1, 1, 1, 1, -1]]]"
      ]
     },
     "execution_count": 237,
     "metadata": {},
     "output_type": "execute_result"
    }
   ],
   "source": [
    "[[[i for i in range(len(nombres)) if nombres[i][0:2] == f\"y_\" and nombres[i][-1] == f\"{j}\"]+[2*n**2+n+j-1], [1]*n+[-1]] for j in range(1,n+1)] #8"
   ]
  },
  {
   "cell_type": "code",
   "execution_count": 209,
   "id": "4930d8ce",
   "metadata": {},
   "outputs": [
    {
     "data": {
      "text/plain": [
       "['y_14', 'y_24', 'y_34', 'y_44']"
      ]
     },
     "execution_count": 209,
     "metadata": {},
     "output_type": "execute_result"
    }
   ],
   "source": [
    "[nombres[19]]+[nombres[23]]+[nombres[27]]+[nombres[31]]"
   ]
  },
  {
   "cell_type": "code",
   "execution_count": 238,
   "id": "350d6a22",
   "metadata": {},
   "outputs": [
    {
     "data": {
      "text/plain": [
       "[[[36, 42, 48, 54, 60, 66, 78], [1, 1, 1, 1, 1, 1, -1]],\n",
       " [[37, 43, 49, 55, 61, 67, 79], [1, 1, 1, 1, 1, 1, -1]],\n",
       " [[38, 44, 50, 56, 62, 68, 80], [1, 1, 1, 1, 1, 1, -1]],\n",
       " [[39, 45, 51, 57, 63, 69, 81], [1, 1, 1, 1, 1, 1, -1]],\n",
       " [[40, 46, 52, 58, 64, 70, 82], [1, 1, 1, 1, 1, 1, -1]],\n",
       " [[41, 47, 53, 59, 65, 71, 83], [1, 1, 1, 1, 1, 1, -1]]]"
      ]
     },
     "execution_count": 238,
     "metadata": {},
     "output_type": "execute_result"
    }
   ],
   "source": [
    "[[[i*n+n**2+j for i in range(0,n)]+[2*n**2+n+j], [1]*n+[-1]] for j in range(0,n)]"
   ]
  },
  {
   "cell_type": "code",
   "execution_count": 211,
   "id": "21ccd9f7",
   "metadata": {},
   "outputs": [
    {
     "data": {
      "text/plain": [
       "['y_11', 'y_21', 'y_31', 'y_41', 'b_1']"
      ]
     },
     "execution_count": 211,
     "metadata": {},
     "output_type": "execute_result"
    }
   ],
   "source": [
    "[nombres[16]]+[nombres[20]]+[nombres[24]]+[nombres[28]]+[nombres[36]]"
   ]
  },
  {
   "cell_type": "code",
   "execution_count": 239,
   "id": "a2ba42a0",
   "metadata": {},
   "outputs": [
    {
     "data": {
      "text/plain": [
       "[[[36], [1]],\n",
       " [[37], [1]],\n",
       " [[38], [1]],\n",
       " [[39], [1]],\n",
       " [[40], [1]],\n",
       " [[41], [1]],\n",
       " [[42], [1]],\n",
       " [[43], [1]],\n",
       " [[44], [1]],\n",
       " [[45], [1]],\n",
       " [[46], [1]],\n",
       " [[47], [1]],\n",
       " [[48], [1]],\n",
       " [[49], [1]],\n",
       " [[50], [1]],\n",
       " [[51], [1]],\n",
       " [[52], [1]],\n",
       " [[53], [1]],\n",
       " [[54], [1]],\n",
       " [[55], [1]],\n",
       " [[56], [1]],\n",
       " [[57], [1]],\n",
       " [[58], [1]],\n",
       " [[59], [1]],\n",
       " [[60], [1]],\n",
       " [[61], [1]],\n",
       " [[62], [1]],\n",
       " [[63], [1]],\n",
       " [[64], [1]],\n",
       " [[65], [1]],\n",
       " [[66], [1]],\n",
       " [[67], [1]],\n",
       " [[68], [1]],\n",
       " [[69], [1]],\n",
       " [[70], [1]],\n",
       " [[71], [1]]]"
      ]
     },
     "execution_count": 239,
     "metadata": {},
     "output_type": "execute_result"
    }
   ],
   "source": [
    "[[[k for k in range(len(nombres)) if nombres[k][0:4] == f\"y_{i}{j}\"], [1]] for i in range(1,n+1) for j in range(1,n+1)] #9"
   ]
  },
  {
   "cell_type": "code",
   "execution_count": 213,
   "id": "9fb55a70",
   "metadata": {},
   "outputs": [
    {
     "data": {
      "text/plain": [
       "[[[16], [1, -1]],\n",
       " [[17], [1, -1]],\n",
       " [[18], [1, -1]],\n",
       " [[19], [1, -1]],\n",
       " [[20], [1, -1]],\n",
       " [[21], [1, -1]],\n",
       " [[22], [1, -1]],\n",
       " [[23], [1, -1]],\n",
       " [[24], [1, -1]],\n",
       " [[25], [1, -1]],\n",
       " [[26], [1, -1]],\n",
       " [[27], [1, -1]],\n",
       " [[28], [1, -1]],\n",
       " [[29], [1, -1]],\n",
       " [[30], [1, -1]],\n",
       " [[31], [1, -1]]]"
      ]
     },
     "execution_count": 213,
     "metadata": {},
     "output_type": "execute_result"
    }
   ],
   "source": [
    "[[[k for k in range(len(nombres)) if nombres[k][0:4] == f\"y_{i}{j}\"]+[], [1,-1]] for i in range(1,n+1) for j in range(1,n+1)] #10"
   ]
  },
  {
   "cell_type": "code",
   "execution_count": null,
   "id": "0d4c6224",
   "metadata": {},
   "outputs": [
    {
     "data": {
      "text/plain": [
       "[[[16, 40], [1, -1]],\n",
       " [[17, 40], [1, -1]],\n",
       " [[18, 40], [1, -1]],\n",
       " [[19, 40], [1, -1]],\n",
       " [[20, 41], [1, -1]],\n",
       " [[21, 41], [1, -1]],\n",
       " [[22, 41], [1, -1]],\n",
       " [[23, 41], [1, -1]],\n",
       " [[24, 42], [1, -1]],\n",
       " [[25, 42], [1, -1]],\n",
       " [[26, 42], [1, -1]],\n",
       " [[27, 42], [1, -1]],\n",
       " [[28, 43], [1, -1]],\n",
       " [[29, 43], [1, -1]],\n",
       " [[30, 43], [1, -1]],\n",
       " [[31, 43], [1, -1]]]"
      ]
     },
     "execution_count": 214,
     "metadata": {},
     "output_type": "execute_result"
    }
   ],
   "source": [
    "[[[k, k//n+2*n**2+n], [1,-1]] for k in range(n**2,2*n**2)] #10"
   ]
  },
  {
   "cell_type": "code",
   "execution_count": 215,
   "id": "dc320731",
   "metadata": {},
   "outputs": [
    {
     "data": {
      "text/plain": [
       "['y_12', 'D_1']"
      ]
     },
     "execution_count": 215,
     "metadata": {},
     "output_type": "execute_result"
    }
   ],
   "source": [
    "[nombres[17]]+[nombres[40]]"
   ]
  },
  {
   "cell_type": "code",
   "execution_count": 216,
   "id": "1e5cb85b",
   "metadata": {},
   "outputs": [
    {
     "data": {
      "text/plain": [
       "[[[16, 17, 18, 19], [1, 1, 1, 1]],\n",
       " [[20, 21, 22, 23], [1, 1, 1, 1]],\n",
       " [[24, 25, 26, 27], [1, 1, 1, 1]],\n",
       " [[28, 29, 30, 31], [1, 1, 1, 1]]]"
      ]
     },
     "execution_count": 216,
     "metadata": {},
     "output_type": "execute_result"
    }
   ],
   "source": [
    "[[[j for j in range(len(nombres)) if nombres[j][0:3] == f\"y_{i}\"], [1]*n] for i in range(1,n+1)] #11"
   ]
  },
  {
   "cell_type": "code",
   "execution_count": 217,
   "id": "f57db954",
   "metadata": {},
   "outputs": [
    {
     "data": {
      "text/plain": [
       "[[[16, 17, 18, 19, 40], [1, 1, 1, 1, -4]],\n",
       " [[20, 21, 22, 23, 41], [1, 1, 1, 1, -4]],\n",
       " [[24, 25, 26, 27, 42], [1, 1, 1, 1, -4]],\n",
       " [[28, 29, 30, 31, 43], [1, 1, 1, 1, -4]]]"
      ]
     },
     "execution_count": 217,
     "metadata": {},
     "output_type": "execute_result"
    }
   ],
   "source": [
    "[[[i*n+n**2+j for j in range(0,n)]+[2*n**2+2*n+i], [1]*n+[-4]] for i in range(0,n)]"
   ]
  },
  {
   "cell_type": "code",
   "execution_count": 218,
   "id": "d46a1eee",
   "metadata": {},
   "outputs": [
    {
     "data": {
      "text/plain": [
       "['y_11', 'y_12', 'y_13', 'y_14', 'D_1']"
      ]
     },
     "execution_count": 218,
     "metadata": {},
     "output_type": "execute_result"
    }
   ],
   "source": [
    "nombres[16:20]+[nombres[40]]"
   ]
  },
  {
   "cell_type": "code",
   "execution_count": 219,
   "id": "f36d55b6",
   "metadata": {},
   "outputs": [
    {
     "data": {
      "text/plain": [
       "[[[36, 44], [1, 1]],\n",
       " [[37, 45], [1, 1]],\n",
       " [[38, 46], [1, 1]],\n",
       " [[39, 47], [1, 1]]]"
      ]
     },
     "execution_count": 219,
     "metadata": {},
     "output_type": "execute_result"
    }
   ],
   "source": [
    "[[[i+n+2*n**2,i+3*n+2*n**2], [1,1]] for i in range(0,n)] #12a "
   ]
  },
  {
   "cell_type": "code",
   "execution_count": 220,
   "id": "cab597c8",
   "metadata": {},
   "outputs": [
    {
     "data": {
      "text/plain": [
       "['b_1', 'u_1']"
      ]
     },
     "execution_count": 220,
     "metadata": {},
     "output_type": "execute_result"
    }
   ],
   "source": [
    "[nombres[36]]+[nombres[44]]"
   ]
  }
 ],
 "metadata": {
  "kernelspec": {
   "display_name": "Python 3",
   "language": "python",
   "name": "python3"
  },
  "language_info": {
   "codemirror_mode": {
    "name": "ipython",
    "version": 3
   },
   "file_extension": ".py",
   "mimetype": "text/x-python",
   "name": "python",
   "nbconvert_exporter": "python",
   "pygments_lexer": "ipython3",
   "version": "3.13.2"
  }
 },
 "nbformat": 4,
 "nbformat_minor": 5
}
